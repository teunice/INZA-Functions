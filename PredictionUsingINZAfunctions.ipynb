{
 "cells": [
  {
   "cell_type": "code",
   "execution_count": 2,
   "metadata": {
    "scrolled": true
   },
   "outputs": [
    {
     "name": "stdout",
     "output_type": "stream",
     "text": [
      "SPATIAL_REF_SYS\n",
      "GEOMETRY_COLUMNS\n",
      "NZ_MAT_METADATA\n",
      "NZ_MAT_BRDCST_COMMAND\n",
      "NZA_META_PARAMS\n",
      "NZA_META_MODELS\n",
      "NZA_META_MID_CLUSTER_1_MODEL\n",
      "NZA_META_MID_CLUSTER_1_COLUMN_STATISTICS\n",
      "NZA_META_MID_CLUSTER_1_COLUMNS\n",
      "NZA_META_MID_CLUSTER_1_CLUSTERS\n"
     ]
    }
   ],
   "source": [
    "## Netezza INZA functions\n",
    "# in-databse analyics allows us to preform anaysis onvery large datasets without bring the dat aback to the cliuent\n",
    "# We leverage the power of entezza to performen the analysis\n",
    "\n",
    "#First, establish the netezza odbc conncetion, the system where python executes needs an existing ODBC connection\n",
    "import pandas as pd\n",
    "import pyodbc\n",
    "\n",
    "conn=pyodbc.connect('DSN=NZATSVL;UID=admin;PWD=password') #DSN = the connection in the odbc list\n",
    "cursor=conn.cursor()\n",
    "cursor.execute(\"select * from _v_table limit 10\")\n",
    "row = cursor.fetchone()\n",
    "while row: \n",
    "    print(row[1])\n",
    "    row = cursor.fetchone()"
   ]
  },
  {
   "cell_type": "code",
   "execution_count": 3,
   "metadata": {},
   "outputs": [
    {
     "data": {
      "text/html": [
       "<div>\n",
       "<style scoped>\n",
       "    .dataframe tbody tr th:only-of-type {\n",
       "        vertical-align: middle;\n",
       "    }\n",
       "\n",
       "    .dataframe tbody tr th {\n",
       "        vertical-align: top;\n",
       "    }\n",
       "\n",
       "    .dataframe thead th {\n",
       "        text-align: right;\n",
       "    }\n",
       "</style>\n",
       "<table border=\"1\" class=\"dataframe\">\n",
       "  <thead>\n",
       "    <tr style=\"text-align: right;\">\n",
       "      <th></th>\n",
       "      <th>TEMPERATURE</th>\n",
       "      <th>PRESSURE</th>\n",
       "      <th>HUMIDITY</th>\n",
       "      <th>WIND_SPEED</th>\n",
       "      <th>PRECIPITATION</th>\n",
       "      <th>PRICE</th>\n",
       "      <th>PRICE_HOUR</th>\n",
       "    </tr>\n",
       "  </thead>\n",
       "  <tbody>\n",
       "    <tr>\n",
       "      <th>0</th>\n",
       "      <td>84.099998</td>\n",
       "      <td>28.9</td>\n",
       "      <td>69.000000</td>\n",
       "      <td>9.3</td>\n",
       "      <td>0.021</td>\n",
       "      <td>5.666903</td>\n",
       "      <td>2017-07-23 18:00:00</td>\n",
       "    </tr>\n",
       "    <tr>\n",
       "      <th>1</th>\n",
       "      <td>84.099998</td>\n",
       "      <td>29.0</td>\n",
       "      <td>59.000000</td>\n",
       "      <td>9.9</td>\n",
       "      <td>0.000</td>\n",
       "      <td>5.604958</td>\n",
       "      <td>2017-07-23 19:00:00</td>\n",
       "    </tr>\n",
       "    <tr>\n",
       "      <th>2</th>\n",
       "      <td>84.099998</td>\n",
       "      <td>28.9</td>\n",
       "      <td>76.800003</td>\n",
       "      <td>1.6</td>\n",
       "      <td>0.000</td>\n",
       "      <td>3.915321</td>\n",
       "      <td>2017-07-24 00:00:00</td>\n",
       "    </tr>\n",
       "    <tr>\n",
       "      <th>3</th>\n",
       "      <td>66.900002</td>\n",
       "      <td>29.0</td>\n",
       "      <td>69.699997</td>\n",
       "      <td>5.8</td>\n",
       "      <td>0.000</td>\n",
       "      <td>5.325364</td>\n",
       "      <td>2017-07-24 08:00:00</td>\n",
       "    </tr>\n",
       "    <tr>\n",
       "      <th>4</th>\n",
       "      <td>64.699997</td>\n",
       "      <td>29.0</td>\n",
       "      <td>74.300003</td>\n",
       "      <td>5.0</td>\n",
       "      <td>0.000</td>\n",
       "      <td>5.120123</td>\n",
       "      <td>2017-07-24 09:00:00</td>\n",
       "    </tr>\n",
       "  </tbody>\n",
       "</table>\n",
       "</div>"
      ],
      "text/plain": [
       "   TEMPERATURE  PRESSURE   HUMIDITY  WIND_SPEED  PRECIPITATION     PRICE  \\\n",
       "0    84.099998      28.9  69.000000         9.3          0.021  5.666903   \n",
       "1    84.099998      29.0  59.000000         9.9          0.000  5.604958   \n",
       "2    84.099998      28.9  76.800003         1.6          0.000  3.915321   \n",
       "3    66.900002      29.0  69.699997         5.8          0.000  5.325364   \n",
       "4    64.699997      29.0  74.300003         5.0          0.000  5.120123   \n",
       "\n",
       "           PRICE_HOUR  \n",
       "0 2017-07-23 18:00:00  \n",
       "1 2017-07-23 19:00:00  \n",
       "2 2017-07-24 00:00:00  \n",
       "3 2017-07-24 08:00:00  \n",
       "4 2017-07-24 09:00:00  "
      ]
     },
     "execution_count": 3,
     "metadata": {},
     "output_type": "execute_result"
    }
   ],
   "source": [
    "query1 = 'select * from CP4D_48CORES.ADMIN.PRICE_TEMP_UPLOAD'\n",
    "TempPrice = pd.read_sql(query1, conn)\n",
    "TempPrice.head()"
   ]
  },
  {
   "cell_type": "code",
   "execution_count": null,
   "metadata": {},
   "outputs": [],
   "source": [
    "## Analyzing the data\n",
    "# first we want to understand our data, run some descriptive statisctics\n",
    "# like most analysis platforms there are built in functions for univariate analysis\n",
    "# the SUMMARY1000 call analyzes all fieldsin a table by default and places the output in a new table, which we then query\n",
    "\n",
    "cursor.execute(\"drop table PRICE_TEMP_ANALYSIS if exists\") #drop the table if it exists - keep our database clean\n",
    "cursor.execute(\"CALL nza..SUMMARY1000('intable=ADMIN.PRICE_TEMP_UPLOAD, outtable=PRICE_TEMP_ANALYSIS');\")\n",
    "pd.read_sql('select * from CP4D_48CORES.ADMIN.PRICE_TEMP_ANALYSIS', conn)"
   ]
  },
  {
   "cell_type": "code",
   "execution_count": null,
   "metadata": {},
   "outputs": [],
   "source": [
    "## Let's find if the is a relationship between temperature and price in the data\n",
    "# we are looking for covariance this is the COV function\n",
    "\n",
    "cursor.execute(\"drop table PRICE_TEMP_ANALYSIS if exists\")\n",
    "\n",
    "# use the Covariance function, store results in PRICE_TEMP_ANALYSIS\n",
    "cursor.execute(\"CALL nza..COV('intable=ADMIN.PRICE_TEMP_UPLOAD, incolumn=TEMPERATURE;PRICE,outtable=PRICE_TEMP_ANALYSIS');\")\n",
    "# bring the results table into the notebook - or just query it directly in Netezza\n",
    "pd.read_sql('select * from CP4D_48CORES.ADMIN.PRICE_TEMP_ANALYSIS', conn)"
   ]
  },
  {
   "cell_type": "code",
   "execution_count": null,
   "metadata": {},
   "outputs": [],
   "source": [
    "# clean up the analysis tables\n",
    "cursor.execute(\"drop table PRICE_TEMP_NEW if exists\")\n",
    "# the INZA functions usully need a unique ID for each row of data, we use the intrnal ROWID for this\n",
    "cursor.execute(\"create table PRICE_TEMP_NEW as select *, DATE(PRICE_HOUR) as DAY, ROWID as ID from ADMIN.PRICE_TEMP_UPLOAD\")\n",
    "pd.read_sql('select * from PRICE_TEMP_NEW limit 10', conn)"
   ]
  },
  {
   "cell_type": "code",
   "execution_count": null,
   "metadata": {},
   "outputs": [],
   "source": [
    "# from the above, we see the that a negtive relation between the two columns\n",
    "# now let's predict the price values based on a possible time series\n",
    "\n",
    "# we now call a timeseries algorithm to create a model, the model name is PRICE_TIME\n",
    "cursor.execute(\"CALL nza..TIMESERIES('model=PRICE_TIME, intable=ADMIN.PRICE_TEMP_NEW, by=DAY, time=PRICE_HOUR, target=PRICE' );\")"
   ]
  },
  {
   "cell_type": "code",
   "execution_count": null,
   "metadata": {},
   "outputs": [],
   "source": [
    "# we can list our models here\n",
    "pd.read_sql(\"select * from v_nza_models;\",con=conn)"
   ]
  },
  {
   "cell_type": "code",
   "execution_count": null,
   "metadata": {},
   "outputs": [],
   "source": [
    "## model appears \n",
    "# the process store a huge amount of data about the models in metadata tables\n",
    "# see chapter 22 of the document IBM_Netezza_In-Database_Analytics_Developers_Guide.pdf\n",
    "cursor.execute(\"CALL nza..PRINT_TIMESERIES('model=PRICE_TIME, history=true');\")\n",
    "# and some simple charts\n",
    "cursor.execute(\"CALL nza..PRINT_TIMESERIES('model=PRICE_TIME, history=true, series=sinus,\n",
    "plot=true');\")\n"
   ]
  }
 ],
 "metadata": {
  "kernelspec": {
   "display_name": "Python 3",
   "language": "python",
   "name": "python3"
  },
  "language_info": {
   "codemirror_mode": {
    "name": "ipython",
    "version": 3
   },
   "file_extension": ".py",
   "mimetype": "text/x-python",
   "name": "python",
   "nbconvert_exporter": "python",
   "pygments_lexer": "ipython3",
   "version": "3.6.8"
  }
 },
 "nbformat": 4,
 "nbformat_minor": 2
}
