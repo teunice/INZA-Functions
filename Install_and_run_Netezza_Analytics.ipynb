{
 "cells": [
  {
   "cell_type": "markdown",
   "metadata": {
    "scrolled": true
   },
   "source": [
    "# Using Advanced Analytics and Data Science Functions in IBM Netezza\n",
    "## IBM Netezza® Performance Server for IBM Cloud Pak® for Data \n",
    "##\n",
    "#### Package contents:\n",
    "#### notebook - Install_and_run_Netezza_Analytics.ipynb\n",
    "#### text document - Installing_Netezza_Analytics_INZA.txt\n",
    "#### text document - Updating_a_database_for_Netezza_Analytics_INZA.txt\n",
    "#### documentation - \"IBM Netezza In-Database Analytics Developer's Guide.pdf\"\n",
    "#### sample data set - \n",
    "##\n",
    "## The IBM Netezza Analytics (INZA) enable advanced analytics in Netezza (NPS) systems\n",
    "### These functions are accessble via SQL calls and leverage the power of NPS through in-database analytics\n",
    "### This notebook uses python to issue the SQL calls, however all analytics are executed in NPS\n",
    "### Executing in NPS has numerous benefits\n",
    "### - reduces need for large analyics systems to support Jupyter notebooks or python systems \n",
    "### - nearly eliminates moving data between systems increasing performance data security\n",
    "### - enables data sceince functions on very large datasets, maintaining data security and privacy\n",
    "### - allows for deployment of analytics into NPS for high speed analyics \"in-place\" secured by operational IDs\n",
    "### The code here can be used with Aginity or any tool/application with a connection to NPS\n",
    "##\n",
    "### This is a collection of scripts notebooks, python, SQL for installing and using the analytics functions\n",
    "###\n",
    "### Contents\n",
    "### A. Required inital steps - (this notebook)  Install_and_run_Netezza_Analytics.ipynb\n",
    "###  1. Installing the packages and and enabling the analytics system\n",
    "###  2. Initializing analytics in a selected database\n",
    "###  3a. Connecting to the database - ODBC, JDBC\n",
    "###  3b. Connetcing to the database - Cloud Pak for Data\n",
    "\n",
    "\n",
    "### B. Using the functions - a simple clustering application end to end (Using_the_INZA_functions)\n",
    "###  4. Load some data and analyze the data\n",
    "###  5. Build a cluster model\n",
    "###  6. Evaluate the model\n",
    "###  7. Score the model and deploy"
   ]
  },
  {
   "cell_type": "code",
   "execution_count": null,
   "metadata": {},
   "outputs": [],
   "source": [
    "# Install the INZA packages and initialize the database(s)\n",
    "# \n",
    "# 1. Have the NPS Admin install the required packes on the NPS system\n",
    "# The steps are documents in this document Installing_Netezza_Analytics_INZA.txt\n",
    "#\n",
    "# 2. In the database where the data to be analyzed is located execute the scripts to create the metadata and model tables\n",
    "# The database owner / Admin can use this script Updating_a_database_for_Netezza_Analytics_INZA.txt\n",
    "#\n",
    "# to verify the installs were successful, check the database has the views/tables\n",
    "# for example there should be a view in the database: INZA.V_NZA_MODELS (with no records initially)"
   ]
  },
  {
   "cell_type": "code",
   "execution_count": null,
   "metadata": {},
   "outputs": [],
   "source": [
    "# Connecting to the NPS as a user via ODBC or JDBC (Wwindows OS)\n",
    "#\n",
    "# Establish a connection via ODBC or JDBC. \n",
    "# Download the netezza drivers from IBM Fix Central. \n",
    "# Create and test the connections\n",
    "\n",
    "# Get the client software \n",
    "# Download from Fix Central https://www.ibm.com/support/fixcentral\n",
    "# -product: IBM Netezza NPS Software and Clients\n",
    "# -Installed Version: NPS_7.2.1 (or latest)\n",
    "# -Platform: Windows\n",
    "# -Browse for fixes: \n",
    "# -Select and download: 7.2.1.10-IM-Netezza-NPS-fp126028 (or latest)\n",
    "# Unpack and install the drivers\n",
    "\n",
    "# For Netezza ODBC, use windows ODBC tool to create a connection: port is usually 5480\n",
    "# For Netezza JDBC, in the driver directory, start Netezza JDBC connection tool: nzjdbc.jar\n",
    "# dsn_db=\"YourDB\"\n",
    "# dsn_host=\"YourHostname or IP\"\n",
    "# dsn_port=\"5480\"\n",
    "# dsn_uid=\"User\"\n",
    "# dsn_pw=\"password\"\n",
    "# jdbc_driver_name = \"org.netezza.Driver\"\n",
    "# jdbc_driver_loc = os.path.join(r\"‪E:\\NZ_JDBC\\nzjdbc.jar\")"
   ]
  },
  {
   "cell_type": "code",
   "execution_count": null,
   "metadata": {},
   "outputs": [],
   "source": [
    "# Connecting to the NPS as a user of the Cloud Pak for Data\n",
    "#\n",
    "# The DBA and/or Cloud Pak Admin can create the required connection in Cloud Pak for Data Connections\n",
    "# Once created, use the \"paste in the code for pandas data frame\" for the connection into the notebook using the 0101 widget in the upper right corner of the notebook\n",
    "# \n",
    "![PasteIntoCode.JPG](attachment:PasteIntoCode.JPG)\n",
    "# paste in the code for pandas dataframe or paste in the credentials \n",
    "#"
   ]
  },
  {
   "cell_type": "code",
   "execution_count": 1,
   "metadata": {},
   "outputs": [
    {
     "name": "stdout",
     "output_type": "stream",
     "text": [
      "ADMIN\n",
      "ADMIN\n",
      "ADMIN\n"
     ]
    }
   ],
   "source": [
    "# make the connection using ODBC\n",
    "# to establish the netezza odbc conncetion, the system where python executes needs an ODBC connection created\n",
    "# import the pandas library for data manipulation and pyodbc for ODBC access to netezza\n",
    "# note: install the libs into notebooks: !{sys.executable} -m pip install pyodbc\n",
    "# establish the connection \"conn\" and test by accessing one of the INZA table/veiws then closing the connection\n",
    "\n",
    "import pandas as pd\n",
    "import pyodbc\n",
    "\n",
    "conn=pyodbc.connect('DSN=NZATSVL;UID=admin;PWD=password') #DSN = the connection in the odbc list\n",
    "cursor=conn.cursor()\n",
    "cursor.execute(\"select * from V_NZA_MODELS\")\n",
    "row = cursor.fetchone()\n",
    "while row: \n",
    "    print(row[1])\n",
    "    row = cursor.fetchone()\n",
    "    \n",
    "#close the connection\n",
    "conn.close()"
   ]
  },
  {
   "cell_type": "code",
   "execution_count": 2,
   "metadata": {},
   "outputs": [
    {
     "name": "stdout",
     "output_type": "stream",
     "text": [
      "Requirement already satisfied: pandas in c:\\programdata\\watsonstudiodesktop\\miniconda3\\envs\\desktop\\lib\\site-packages (0.24.1)\n",
      "Requirement already satisfied: pytz>=2011k in c:\\programdata\\watsonstudiodesktop\\miniconda3\\envs\\desktop\\lib\\site-packages (from pandas) (2018.9)\n",
      "Requirement already satisfied: python-dateutil>=2.5.0 in c:\\programdata\\watsonstudiodesktop\\miniconda3\\envs\\desktop\\lib\\site-packages (from pandas) (2.7.5)\n",
      "Requirement already satisfied: numpy>=1.12.0 in c:\\programdata\\watsonstudiodesktop\\miniconda3\\envs\\desktop\\lib\\site-packages (from pandas) (1.15.4)\n",
      "Requirement already satisfied: six>=1.5 in c:\\programdata\\watsonstudiodesktop\\miniconda3\\envs\\desktop\\lib\\site-packages (from python-dateutil>=2.5.0->pandas) (1.12.0)\n"
     ]
    }
   ],
   "source": [
    "# Netezza connection using jdbc\n",
    "# using the Jaydebeapi package. On the local system, find where the JDBC drivers were installed\n",
    "import sys\n",
    "#!{sys.executable} -m pip install Jaydebeapi3\n",
    "#!{sys.executable} -m pip install pandas\n"
   ]
  },
  {
   "cell_type": "code",
   "execution_count": null,
   "metadata": {},
   "outputs": [],
   "source": [
    "# bring in the JDBC connection lib\n",
    "import Jaydebeapi, os\n",
    "###jdbc:netezza://\" + server + \"/\" + dbName ;\n",
    "connection_string='jdbc:netezza://'+dsn_hostname+':'+dsn_port+'/'+dsn_database\n",
    "url = '{0}:user={1};password={2}'.format(connection_string, dsn_uid, dsn_pw)\n",
    "\n",
    "print(\"URL: \" + url)\n",
    "print(\"Connection String: \" + connection_string)\n",
    "\n",
    "conn = jaydebeapi.connect(\"org.netezza.Driver\", connection_string, {'user': dsn_uid, 'password': dsn_pwd},jars = jdbc_driver_loc)\n",
    "\n",
    "#now access the database\n",
    "query1 = \"select * from _v_table limit 10\"\n",
    "cursor = connj.cursor()\n",
    "cursor.execute(query1)\n",
    "\n"
   ]
  },
  {
   "cell_type": "code",
   "execution_count": null,
   "metadata": {},
   "outputs": [],
   "source": [
    "# During the installation process the INZA functions were installed into a database\n",
    "# Now, load some data into the existing database\n",
    "# 1. restablish the connection if needed\n",
    "conn=pyodbc.connect('DSN=NZATSVL;UID=admin;PWD=password') #DSN = the connection in the odbc list\n",
    "cursor=conn.cursor()\n",
    "\n",
    "# 2. (optional) drop the table if you created already, use the cursor.execute command becasue no data is returned\n",
    "cursor.execute(\"drop table price_temp_upload IF EXISTS;\")\n",
    "\n",
    "# 3. create a table by loading external data on your local system energy_price.csv as local_csv_file included in the zip file\n",
    "# note filename \"r\" and double back slash is needed because python uses back slash as a special char\n",
    "\n",
    "local_csv_file = r\"'E:\\\\NetezzaClient\\\\energy_price.csv'\"\n",
    "\n",
    "# build the create table external command then execute \n",
    "str=\"create table price_temp_upload as select * from external \" + local_csv_file + \" (temperature real, pressure real, humidity real, wind_speed real, precipitation real, price real, price_hour timestamp) USING ( QUOTEDVALUE 'DOUBLE' NULLVALUE '' CRINSTRING FALSE CTRLCHARS TRUE DELIMITER ','  Y2BASE 2000 ENCODING 'internal' REMOTESOURCE 'ODBC' );\"\n",
    "cursor.execute(str)\n",
    "\n",
    "# close the connection\n",
    "conn.close()"
   ]
  },
  {
   "cell_type": "code",
   "execution_count": 9,
   "metadata": {},
   "outputs": [
    {
     "name": "stdout",
     "output_type": "stream",
     "text": [
      "Rows returned =  10\n",
      "Temp   Hour\n",
      "2017-07-23 01:00:00 76.5\n",
      "2017-07-23 23:00:00 85.5999984741211\n",
      "2017-07-25 09:00:00 60.5\n",
      "2017-07-25 11:00:00 58.900001525878906\n",
      "2017-07-25 21:00:00 79.19999694824219\n",
      "2017-07-26 02:00:00 65.19999694824219\n",
      "2017-07-26 07:00:00 60.5\n",
      "2017-07-26 09:00:00 58.900001525878906\n",
      "2017-07-24 07:00:00 68.30000305175781\n",
      "2017-07-25 01:00:00 70.80000305175781\n"
     ]
    }
   ],
   "source": [
    "# pull data from Netezza, look at what loaded\n",
    "# note, the data is retained in netezza, no data is returned, in this case, back to the local notebook\n",
    "\n",
    "conn=pyodbc.connect('DSN=NZATSVL;UID=admin;PWD=password') #DSN = the connection in the odbc list\n",
    "cursor=conn.cursor()\n",
    "\n",
    "cursor.execute('select * from PRICE_TEMP_UPLOAD limit 10')\n",
    "print(\"Rows returned = \", cursor.rowcount)\n",
    "rows = cursor.fetchall()\n",
    "print(\"Hour            Temp\")\n",
    "for row in rows:\n",
    "    print(row.PRICE_HOUR, row.TEMPERATURE)\n",
    "\n",
    "conn.close()"
   ]
  },
  {
   "cell_type": "code",
   "execution_count": null,
   "metadata": {
    "scrolled": true
   },
   "outputs": [],
   "source": [
    "# the purpose of this notebook is to demostrate using the advanced functions in netezza \n",
    "#   while keeping the data and analysis inside netezza rather than moving data back and forth between the client and server\n",
    "#\n",
    "# pandas is a popular py lib for analyzing data, however, very large datasets are difficlut in pandas as the data is local \n",
    "# to pull a data sample from netezza into pandas simply issue the select statement and load data into the \"data frame\"\n",
    "# \n",
    "# first define your query, if the result set is very large, remember the limit clause\n",
    "# then use the pandas read.sql function \n",
    "# the data is downloaded locally into data frame named: temp_price\n",
    "# and print data from the data frame\n",
    "\n",
    "query1 = 'select * from PRICE_TEMP_UPLOAD limit 10'\n",
    "temp_price = pd.read_sql(conn, query1)\n",
    "temp_price.head(12)"
   ]
  },
  {
   "cell_type": "code",
   "execution_count": null,
   "metadata": {},
   "outputs": [],
   "source": [
    "# the INZA functions provde data analysis / statitistical analysis functions \n",
    "# a useful function is Moments or a collection of stats about a column\n",
    "# To use this capability call the procedue and store the output in a table, then query the table\n",
    "\n",
    "conn=pyodbc.connect('DSN=NZATSVL;UID=admin;PWD=password') #DSN = the connection in the odbc list\n",
    "cursor=conn.cursor()\n",
    "\n",
    "query1 = \"drop table moments if exists; CALL nza..MOMENTS('intable=PRICE_TEMP_UPLOAD, incolumn=PRICE, outtable=MOMENTS');\"\n",
    "cursor.execute(query1)\n",
    "#moments = pd.read_sql(conn, 'select * from MOMENTS')\n",
    "#moments.head()\n",
    "rows = cursor.fetchall()\n",
    "print (\"COLUMNNAME | COUNTT |     AVERAGE     |    VARIANCE     |     STDDEV      |     SKEWNESS     |     KURTOSIS      | MINIMUM | MAXIMUM\")\n",
    "print(rows[1])\n",
    "\n",
    "conn.close()"
   ]
  },
  {
   "cell_type": "code",
   "execution_count": null,
   "metadata": {},
   "outputs": [],
   "source": [
    "# Lets run a model\n",
    "# Predict a price in the future based on weather, see the next notebook: "
   ]
  }
 ],
 "metadata": {
  "kernelspec": {
   "display_name": "Python 3",
   "language": "python",
   "name": "python3"
  },
  "language_info": {
   "codemirror_mode": {
    "name": "ipython",
    "version": 3
   },
   "file_extension": ".py",
   "mimetype": "text/x-python",
   "name": "python",
   "nbconvert_exporter": "python",
   "pygments_lexer": "ipython3",
   "version": "3.6.8"
  }
 },
 "nbformat": 4,
 "nbformat_minor": 2
}
